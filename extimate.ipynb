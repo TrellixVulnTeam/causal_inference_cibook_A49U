{
 "metadata": {
  "language_info": {
   "codemirror_mode": {
    "name": "ipython",
    "version": 3
   },
   "file_extension": ".py",
   "mimetype": "text/x-python",
   "name": "python",
   "nbconvert_exporter": "python",
   "pygments_lexer": "ipython3",
   "version": "3.7.5-final"
  },
  "orig_nbformat": 2,
  "kernelspec": {
   "name": "python37564bitcibookvenvbf8255473b2b42b7accfe7c31c244f1f",
   "display_name": "Python 3.7.5 64-bit ('cibook': venv)"
  }
 },
 "nbformat": 4,
 "nbformat_minor": 2,
 "cells": [
  {
   "cell_type": "code",
   "execution_count": 24,
   "metadata": {},
   "outputs": [],
   "source": [
    "import pandas as pd\n",
    "from dowhy import CausalModel\n"
   ]
  },
  {
   "cell_type": "code",
   "execution_count": 25,
   "metadata": {},
   "outputs": [],
   "source": [
    "data = pd.read_csv(\"./data/Kevin_Hillstrom_MineThatData_E-MailAnalytics_DataMiningChallenge_2008.03.20.csv\")"
   ]
  },
  {
   "cell_type": "code",
   "execution_count": 26,
   "metadata": {},
   "outputs": [],
   "source": [
    "data[\"treatment\"] = 0\n",
    "data[\"treatment\"] = data[\"treatment\"].where(data[\"segment\"] == \"Mens E-Mail\", 1)\n",
    "data = data.drop(columns=\"segment\")"
   ]
  },
  {
   "cell_type": "code",
   "execution_count": 27,
   "metadata": {},
   "outputs": [],
   "source": [
    "data = data.drop(columns=\"mens\")"
   ]
  },
  {
   "cell_type": "code",
   "execution_count": 28,
   "metadata": {},
   "outputs": [],
   "source": [
    "# 疑似非RCTデータ作成\n",
    "\n",
    "condition = (data[\"history\"] > 300) & (data[\"recency\"] < 6) & (data[\"channel\"] == \"Multichannel\") \n",
    "\n",
    "not_rct_data = data.drop(data.loc[condition & (data[\"treatment\"] == 1), :].index)\n",
    "not_rct_data = data.drop(data.loc[~condition & (data[\"treatment\"] == 0), :].index)"
   ]
  },
  {
   "cell_type": "code",
   "execution_count": 29,
   "metadata": {
    "tags": []
   },
   "outputs": [
    {
     "output_type": "stream",
     "name": "stdout",
     "text": "['history_segment', 'zip_code', 'channel']\n"
    }
   ],
   "source": [
    "import numpy as np\n",
    "struct_data = not_rct_data.copy()\n",
    "\n",
    "non_numeric_columns = list(struct_data.select_dtypes(exclude=[np.number]).columns)\n",
    "print(non_numeric_columns)"
   ]
  },
  {
   "cell_type": "code",
   "execution_count": 30,
   "metadata": {},
   "outputs": [
    {
     "output_type": "execute_result",
     "data": {
      "text/plain": "   recency  history_segment  history  womens  zip_code  newbie  channel  \\\n0       10                1   142.44       0         1       0        1   \n1        6                2   329.08       1         0       1        2   \n2        7                1   180.65       1         1       1        2   \n4        2                0    45.34       0         2       0        2   \n5        6                1   134.83       1         1       0        1   \n\n   visit  conversion  spend  treatment  \n0      0           0    0.0          1  \n1      0           0    0.0          1  \n2      0           0    0.0          1  \n4      0           0    0.0          1  \n5      1           0    0.0          1  ",
      "text/html": "<div>\n<style scoped>\n    .dataframe tbody tr th:only-of-type {\n        vertical-align: middle;\n    }\n\n    .dataframe tbody tr th {\n        vertical-align: top;\n    }\n\n    .dataframe thead th {\n        text-align: right;\n    }\n</style>\n<table border=\"1\" class=\"dataframe\">\n  <thead>\n    <tr style=\"text-align: right;\">\n      <th></th>\n      <th>recency</th>\n      <th>history_segment</th>\n      <th>history</th>\n      <th>womens</th>\n      <th>zip_code</th>\n      <th>newbie</th>\n      <th>channel</th>\n      <th>visit</th>\n      <th>conversion</th>\n      <th>spend</th>\n      <th>treatment</th>\n    </tr>\n  </thead>\n  <tbody>\n    <tr>\n      <th>0</th>\n      <td>10</td>\n      <td>1</td>\n      <td>142.44</td>\n      <td>0</td>\n      <td>1</td>\n      <td>0</td>\n      <td>1</td>\n      <td>0</td>\n      <td>0</td>\n      <td>0.0</td>\n      <td>1</td>\n    </tr>\n    <tr>\n      <th>1</th>\n      <td>6</td>\n      <td>2</td>\n      <td>329.08</td>\n      <td>1</td>\n      <td>0</td>\n      <td>1</td>\n      <td>2</td>\n      <td>0</td>\n      <td>0</td>\n      <td>0.0</td>\n      <td>1</td>\n    </tr>\n    <tr>\n      <th>2</th>\n      <td>7</td>\n      <td>1</td>\n      <td>180.65</td>\n      <td>1</td>\n      <td>1</td>\n      <td>1</td>\n      <td>2</td>\n      <td>0</td>\n      <td>0</td>\n      <td>0.0</td>\n      <td>1</td>\n    </tr>\n    <tr>\n      <th>4</th>\n      <td>2</td>\n      <td>0</td>\n      <td>45.34</td>\n      <td>0</td>\n      <td>2</td>\n      <td>0</td>\n      <td>2</td>\n      <td>0</td>\n      <td>0</td>\n      <td>0.0</td>\n      <td>1</td>\n    </tr>\n    <tr>\n      <th>5</th>\n      <td>6</td>\n      <td>1</td>\n      <td>134.83</td>\n      <td>1</td>\n      <td>1</td>\n      <td>0</td>\n      <td>1</td>\n      <td>1</td>\n      <td>0</td>\n      <td>0.0</td>\n      <td>1</td>\n    </tr>\n  </tbody>\n</table>\n</div>"
     },
     "metadata": {},
     "execution_count": 30
    }
   ],
   "source": [
    "\n",
    "from sklearn.preprocessing import LabelEncoder\n",
    "\n",
    "le = LabelEncoder()\n",
    "for col in non_numeric_columns:\n",
    "    struct_data[col] = le.fit_transform(struct_data[col])\n",
    "\n",
    "struct_data.head(5)"
   ]
  },
  {
   "cell_type": "code",
   "execution_count": 37,
   "metadata": {},
   "outputs": [
    {
     "output_type": "execute_result",
     "data": {
      "text/plain": "('/tmp/tmpdgkbqzae.png',\n <AGraph <Swig Object of type 'Agraph_t *' at 0x7f730f3f4a20>>)"
     },
     "metadata": {},
     "execution_count": 37
    }
   ],
   "source": [
    "G = nx.DiGraph()  # 有向グラフ (Directed Graph)\n",
    "\n",
    "# 辺の追加 (頂点も必要に応じて追加されます)\n",
    "G.add_edges_from([(\"treatment\", \"visit\"), (\"newbie\", \"visit\"), (\"women\", \"visit\"), (\"visit\", \"conversation\"), (\"channel\", \"conversation\"),(\"conversation\", \"spend\"), (\"history\", \"spend\")])\n",
    "\n",
    "causal_diagram = \"\".join(nx.generate_gml(G))\n",
    "\n",
    "nx.nx_agraph.view_pygraphviz(G, prog='fdp')  # pygraphvizが必要"
   ]
  },
  {
   "cell_type": "code",
   "execution_count": 38,
   "metadata": {
    "tags": []
   },
   "outputs": [
    {
     "output_type": "stream",
     "name": "stderr",
     "text": "INFO:dowhy.causal_graph:If this is observed data (not from a randomized experiment), there might always be missing confounders. Adding a node named \"Unobserved Confounders\" to reflect this.\nINFO:dowhy.causal_model:Model to find the causal effect of treatment ['treatment'] on outcome ['spend']\n"
    }
   ],
   "source": [
    "model=CausalModel(\n",
    "        data = struct_data,\n",
    "        treatment=\"treatment\",\n",
    "        outcome=\"spend\",\n",
    "        graph=causal_diagram\n",
    "        )"
   ]
  },
  {
   "cell_type": "code",
   "execution_count": null,
   "metadata": {},
   "outputs": [],
   "source": []
  }
 ]
}