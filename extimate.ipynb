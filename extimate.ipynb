{
 "metadata": {
  "language_info": {
   "codemirror_mode": {
    "name": "ipython",
    "version": 3
   },
   "file_extension": ".py",
   "mimetype": "text/x-python",
   "name": "python",
   "nbconvert_exporter": "python",
   "pygments_lexer": "ipython3",
   "version": "3.7.5-final"
  },
  "orig_nbformat": 2,
  "kernelspec": {
   "name": "python37564bitcibookvenvbf8255473b2b42b7accfe7c31c244f1f",
   "display_name": "Python 3.7.5 64-bit ('cibook': venv)"
  }
 },
 "nbformat": 4,
 "nbformat_minor": 2,
 "cells": [
  {
   "cell_type": "code",
   "execution_count": 24,
   "metadata": {},
   "outputs": [],
   "source": [
    "import pandas as pd\n",
    "from dowhy import CausalModel\n"
   ]
  },
  {
   "cell_type": "code",
   "execution_count": 102,
   "metadata": {},
   "outputs": [],
   "source": [
    "data = pd.read_csv(\"./data/Kevin_Hillstrom_MineThatData_E-MailAnalytics_DataMiningChallenge_2008.03.20.csv\")"
   ]
  },
  {
   "cell_type": "code",
   "execution_count": 103,
   "metadata": {},
   "outputs": [
    {
     "output_type": "execute_result",
     "data": {
      "text/plain": "(42613, 12)",
      "image/png": "[encoded data removed]",
      "text/latex": "$\\displaystyle \\left( 42613, \\  12\\right)$"
     },
     "metadata": {},
     "execution_count": 103
    }
   ],
   "source": [
    "male_df = data[data['segment'] != 'Womens E-Mail']\n",
    "male_df.shape\n"
   ]
  },
  {
   "cell_type": "code",
   "execution_count": 104,
   "metadata": {},
   "outputs": [
    {
     "output_type": "execute_result",
     "data": {
      "text/plain": "   recency history_segment  history  mens  womens zip_code  newbie channel  \\\n1        6  3) $200 - $350   329.08     1       1    Rural       1     Web   \n3        9  5) $500 - $750   675.83     1       0    Rural       1     Web   \n8        9  5) $500 - $750   675.07     1       1    Rural       1   Phone   \n\n       segment  visit  conversion  spend  treatment  \n1    No E-Mail      0           0    0.0          0  \n3  Mens E-Mail      0           0    0.0          1  \n8  Mens E-Mail      0           0    0.0          1  ",
      "text/html": "<div>\n<style scoped>\n    .dataframe tbody tr th:only-of-type {\n        vertical-align: middle;\n    }\n\n    .dataframe tbody tr th {\n        vertical-align: top;\n    }\n\n    .dataframe thead th {\n        text-align: right;\n    }\n</style>\n<table border=\"1\" class=\"dataframe\">\n  <thead>\n    <tr style=\"text-align: right;\">\n      <th></th>\n      <th>recency</th>\n      <th>history_segment</th>\n      <th>history</th>\n      <th>mens</th>\n      <th>womens</th>\n      <th>zip_code</th>\n      <th>newbie</th>\n      <th>channel</th>\n      <th>segment</th>\n      <th>visit</th>\n      <th>conversion</th>\n      <th>spend</th>\n      <th>treatment</th>\n    </tr>\n  </thead>\n  <tbody>\n    <tr>\n      <th>1</th>\n      <td>6</td>\n      <td>3) $200 - $350</td>\n      <td>329.08</td>\n      <td>1</td>\n      <td>1</td>\n      <td>Rural</td>\n      <td>1</td>\n      <td>Web</td>\n      <td>No E-Mail</td>\n      <td>0</td>\n      <td>0</td>\n      <td>0.0</td>\n      <td>0</td>\n    </tr>\n    <tr>\n      <th>3</th>\n      <td>9</td>\n      <td>5) $500 - $750</td>\n      <td>675.83</td>\n      <td>1</td>\n      <td>0</td>\n      <td>Rural</td>\n      <td>1</td>\n      <td>Web</td>\n      <td>Mens E-Mail</td>\n      <td>0</td>\n      <td>0</td>\n      <td>0.0</td>\n      <td>1</td>\n    </tr>\n    <tr>\n      <th>8</th>\n      <td>9</td>\n      <td>5) $500 - $750</td>\n      <td>675.07</td>\n      <td>1</td>\n      <td>1</td>\n      <td>Rural</td>\n      <td>1</td>\n      <td>Phone</td>\n      <td>Mens E-Mail</td>\n      <td>0</td>\n      <td>0</td>\n      <td>0.0</td>\n      <td>1</td>\n    </tr>\n  </tbody>\n</table>\n</div>"
     },
     "metadata": {},
     "execution_count": 104
    }
   ],
   "source": [
    "male_df['treatment'] = male_df['segment'].map(lambda x: 1 if x == 'Mens E-Mail' else 0)\n",
    "male_df.head(3)"
   ]
  },
  {
   "cell_type": "code",
   "execution_count": 105,
   "metadata": {},
   "outputs": [
    {
     "output_type": "execute_result",
     "data": {
      "text/plain": "           conversion_rate  spend_mean  count\ntreatment                                    \n0                 0.005726    0.652789  21306\n1                 0.012531    1.422617  21307",
      "text/html": "<div>\n<style scoped>\n    .dataframe tbody tr th:only-of-type {\n        vertical-align: middle;\n    }\n\n    .dataframe tbody tr th {\n        vertical-align: top;\n    }\n\n    .dataframe thead th {\n        text-align: right;\n    }\n</style>\n<table border=\"1\" class=\"dataframe\">\n  <thead>\n    <tr style=\"text-align: right;\">\n      <th></th>\n      <th>conversion_rate</th>\n      <th>spend_mean</th>\n      <th>count</th>\n    </tr>\n    <tr>\n      <th>treatment</th>\n      <th></th>\n      <th></th>\n      <th></th>\n    </tr>\n  </thead>\n  <tbody>\n    <tr>\n      <th>0</th>\n      <td>0.005726</td>\n      <td>0.652789</td>\n      <td>21306</td>\n    </tr>\n    <tr>\n      <th>1</th>\n      <td>0.012531</td>\n      <td>1.422617</td>\n      <td>21307</td>\n    </tr>\n  </tbody>\n</table>\n</div>"
     },
     "metadata": {},
     "execution_count": 105
    }
   ],
   "source": [
    "# 集計\n",
    "summary_by_segment = pd.pivot_table(\n",
    "    data=male_df,\n",
    "    values=['conversion', 'spend', 'visit'],\n",
    "    index=['treatment'],\n",
    "    aggfunc={'conversion': np.mean, 'spend': np.mean, 'visit': np.ma.count}\n",
    ")\n",
    "\n",
    "summary_by_segment.columns = ['conversion_rate', 'spend_mean', 'count']\n",
    "summary_by_segment"
   ]
  },
  {
   "cell_type": "code",
   "execution_count": 107,
   "metadata": {},
   "outputs": [
    {
     "output_type": "execute_result",
     "data": {
      "text/plain": "    recency history_segment  history  mens  womens zip_code  newbie channel  \\\n3         9  5) $500 - $750   675.83     1       0    Rural       1     Web   \n8         9  5) $500 - $750   675.07     1       1    Rural       1   Phone   \n13        2  2) $100 - $200   101.64     0       1    Urban       0     Web   \n\n        segment  visit  conversion  spend  treatment  \n3   Mens E-Mail      0           0    0.0          1  \n8   Mens E-Mail      0           0    0.0          1  \n13  Mens E-Mail      1           0    0.0          1  ",
      "text/html": "<div>\n<style scoped>\n    .dataframe tbody tr th:only-of-type {\n        vertical-align: middle;\n    }\n\n    .dataframe tbody tr th {\n        vertical-align: top;\n    }\n\n    .dataframe thead th {\n        text-align: right;\n    }\n</style>\n<table border=\"1\" class=\"dataframe\">\n  <thead>\n    <tr style=\"text-align: right;\">\n      <th></th>\n      <th>recency</th>\n      <th>history_segment</th>\n      <th>history</th>\n      <th>mens</th>\n      <th>womens</th>\n      <th>zip_code</th>\n      <th>newbie</th>\n      <th>channel</th>\n      <th>segment</th>\n      <th>visit</th>\n      <th>conversion</th>\n      <th>spend</th>\n      <th>treatment</th>\n    </tr>\n  </thead>\n  <tbody>\n    <tr>\n      <th>3</th>\n      <td>9</td>\n      <td>5) $500 - $750</td>\n      <td>675.83</td>\n      <td>1</td>\n      <td>0</td>\n      <td>Rural</td>\n      <td>1</td>\n      <td>Web</td>\n      <td>Mens E-Mail</td>\n      <td>0</td>\n      <td>0</td>\n      <td>0.0</td>\n      <td>1</td>\n    </tr>\n    <tr>\n      <th>8</th>\n      <td>9</td>\n      <td>5) $500 - $750</td>\n      <td>675.07</td>\n      <td>1</td>\n      <td>1</td>\n      <td>Rural</td>\n      <td>1</td>\n      <td>Phone</td>\n      <td>Mens E-Mail</td>\n      <td>0</td>\n      <td>0</td>\n      <td>0.0</td>\n      <td>1</td>\n    </tr>\n    <tr>\n      <th>13</th>\n      <td>2</td>\n      <td>2) $100 - $200</td>\n      <td>101.64</td>\n      <td>0</td>\n      <td>1</td>\n      <td>Urban</td>\n      <td>0</td>\n      <td>Web</td>\n      <td>Mens E-Mail</td>\n      <td>1</td>\n      <td>0</td>\n      <td>0.0</td>\n      <td>1</td>\n    </tr>\n  </tbody>\n</table>\n</div>"
     },
     "metadata": {},
     "execution_count": 107
    }
   ],
   "source": [
    "# バイアスのあるデータの準備\n",
    "treatment_data = male_df[male_df['treatment'] == 1]\n",
    "control_data = male_df[male_df['treatment'] == 0]\n",
    "\n",
    "treatment_biased = treatment_data.drop(treatment_data[~(\n",
    "    (treatment_data['history'] > 300) |\n",
    "    (treatment_data['recency'] < 6) |\n",
    "    (treatment_data['recency'] == 'Multichannel')\n",
    ")].sample(frac=0.5, random_state=1).index)\n",
    "\n",
    "control_biased = control_data.drop(control_data[\n",
    "    (control_data['history'] > 300) |\n",
    "    (control_data['recency'] < 6) |\n",
    "    (control_data['recency'] == 'Multichannel')\n",
    "].sample(frac=0.5, random_state=1).index)\n",
    "\n",
    "biased_data = pd.concat([treatment_biased, control_biased])\n",
    "biased_data.head(3)"
   ]
  },
  {
   "cell_type": "code",
   "execution_count": 108,
   "metadata": {},
   "outputs": [],
   "source": [
    "# バイアスのあるデータの集計と有意差の検定\n",
    "summary_by_segment_biased = pd.pivot_table(\n",
    "    data=biased_data,\n",
    "    values=['conversion', 'spend', 'visit'],\n",
    "    index=['treatment'],\n",
    "    aggfunc={'conversion': np.mean, 'spend': np.mean, 'visit': np.ma.count}\n",
    ")\n",
    "summary_by_segment_biased.columns = ['conversion_rate', 'spend_mean', 'count']\n"
   ]
  },
  {
   "cell_type": "code",
   "execution_count": 109,
   "metadata": {},
   "outputs": [
    {
     "output_type": "execute_result",
     "data": {
      "text/plain": "           conversion_rate  spend_mean  count\ntreatment                                    \n0                 0.005165    0.634625  14907\n1                 0.013575    1.560682  17017",
      "text/html": "<div>\n<style scoped>\n    .dataframe tbody tr th:only-of-type {\n        vertical-align: middle;\n    }\n\n    .dataframe tbody tr th {\n        vertical-align: top;\n    }\n\n    .dataframe thead th {\n        text-align: right;\n    }\n</style>\n<table border=\"1\" class=\"dataframe\">\n  <thead>\n    <tr style=\"text-align: right;\">\n      <th></th>\n      <th>conversion_rate</th>\n      <th>spend_mean</th>\n      <th>count</th>\n    </tr>\n    <tr>\n      <th>treatment</th>\n      <th></th>\n      <th></th>\n      <th></th>\n    </tr>\n  </thead>\n  <tbody>\n    <tr>\n      <th>0</th>\n      <td>0.005165</td>\n      <td>0.634625</td>\n      <td>14907</td>\n    </tr>\n    <tr>\n      <th>1</th>\n      <td>0.013575</td>\n      <td>1.560682</td>\n      <td>17017</td>\n    </tr>\n  </tbody>\n</table>\n</div>"
     },
     "metadata": {},
     "execution_count": 109
    }
   ],
   "source": [
    "summary_by_segment_biased"
   ]
  },
  {
   "cell_type": "code",
   "execution_count": 110,
   "metadata": {
    "tags": []
   },
   "outputs": [
    {
     "output_type": "stream",
     "name": "stdout",
     "text": "['history_segment', 'zip_code', 'channel', 'segment']\n"
    }
   ],
   "source": [
    "import numpy as np\n",
    "struct_data = biased_data.copy()\n",
    "\n",
    "non_numeric_columns = list(struct_data.select_dtypes(exclude=[np.number]).columns)\n",
    "print(non_numeric_columns)"
   ]
  },
  {
   "cell_type": "code",
   "execution_count": 111,
   "metadata": {},
   "outputs": [
    {
     "output_type": "execute_result",
     "data": {
      "text/plain": "    recency  history_segment  history  mens  womens  zip_code  newbie  \\\n3         9                4   675.83     1       0         0       1   \n8         9                4   675.07     1       1         0       1   \n13        2                1   101.64     0       1         2       0   \n16        5                0    29.99     1       0         1       0   \n17        9                1   112.35     1       0         0       0   \n\n    channel  segment  visit  conversion  spend  treatment  \n3         2        0      0           0    0.0       True  \n8         1        0      0           0    0.0       True  \n13        2        0      1           0    0.0       True  \n16        1        0      0           0    0.0       True  \n17        2        0      0           0    0.0       True  ",
      "text/html": "<div>\n<style scoped>\n    .dataframe tbody tr th:only-of-type {\n        vertical-align: middle;\n    }\n\n    .dataframe tbody tr th {\n        vertical-align: top;\n    }\n\n    .dataframe thead th {\n        text-align: right;\n    }\n</style>\n<table border=\"1\" class=\"dataframe\">\n  <thead>\n    <tr style=\"text-align: right;\">\n      <th></th>\n      <th>recency</th>\n      <th>history_segment</th>\n      <th>history</th>\n      <th>mens</th>\n      <th>womens</th>\n      <th>zip_code</th>\n      <th>newbie</th>\n      <th>channel</th>\n      <th>segment</th>\n      <th>visit</th>\n      <th>conversion</th>\n      <th>spend</th>\n      <th>treatment</th>\n    </tr>\n  </thead>\n  <tbody>\n    <tr>\n      <th>3</th>\n      <td>9</td>\n      <td>4</td>\n      <td>675.83</td>\n      <td>1</td>\n      <td>0</td>\n      <td>0</td>\n      <td>1</td>\n      <td>2</td>\n      <td>0</td>\n      <td>0</td>\n      <td>0</td>\n      <td>0.0</td>\n      <td>True</td>\n    </tr>\n    <tr>\n      <th>8</th>\n      <td>9</td>\n      <td>4</td>\n      <td>675.07</td>\n      <td>1</td>\n      <td>1</td>\n      <td>0</td>\n      <td>1</td>\n      <td>1</td>\n      <td>0</td>\n      <td>0</td>\n      <td>0</td>\n      <td>0.0</td>\n      <td>True</td>\n    </tr>\n    <tr>\n      <th>13</th>\n      <td>2</td>\n      <td>1</td>\n      <td>101.64</td>\n      <td>0</td>\n      <td>1</td>\n      <td>2</td>\n      <td>0</td>\n      <td>2</td>\n      <td>0</td>\n      <td>1</td>\n      <td>0</td>\n      <td>0.0</td>\n      <td>True</td>\n    </tr>\n    <tr>\n      <th>16</th>\n      <td>5</td>\n      <td>0</td>\n      <td>29.99</td>\n      <td>1</td>\n      <td>0</td>\n      <td>1</td>\n      <td>0</td>\n      <td>1</td>\n      <td>0</td>\n      <td>0</td>\n      <td>0</td>\n      <td>0.0</td>\n      <td>True</td>\n    </tr>\n    <tr>\n      <th>17</th>\n      <td>9</td>\n      <td>1</td>\n      <td>112.35</td>\n      <td>1</td>\n      <td>0</td>\n      <td>0</td>\n      <td>0</td>\n      <td>2</td>\n      <td>0</td>\n      <td>0</td>\n      <td>0</td>\n      <td>0.0</td>\n      <td>True</td>\n    </tr>\n  </tbody>\n</table>\n</div>"
     },
     "metadata": {},
     "execution_count": 111
    }
   ],
   "source": [
    "\n",
    "from sklearn.preprocessing import LabelEncoder\n",
    "\n",
    "le = LabelEncoder()\n",
    "for col in non_numeric_columns:\n",
    "    struct_data[col] = le.fit_transform(struct_data[col])\n",
    "\n",
    "struct_data[\"treatment\"] = struct_data[\"treatment\"].astype(bool)\n",
    "\n",
    "struct_data.head(5)"
   ]
  },
  {
   "cell_type": "code",
   "execution_count": 114,
   "metadata": {},
   "outputs": [
    {
     "output_type": "execute_result",
     "data": {
      "text/plain": "('/tmp/tmppb4vp7n1.png',\n <AGraph <Swig Object of type 'Agraph_t *' at 0x7f73040b1f00>>)"
     },
     "metadata": {},
     "execution_count": 114
    }
   ],
   "source": [
    "G = nx.DiGraph()  # 有向グラフ (Directed Graph)\n",
    "\n",
    "# 辺の追加 (頂点も必要に応じて追加されます)\n",
    "G.add_edges_from([ (\"channel\", \"spend\"), (\"channel\", \"treatment\"), (\"history\", \"spend\"), (\"history\", \"treatment\"), (\"recentry\", \"spend\"), (\"recentry\", \"treatment\"), (\"treatment\", \"spend\")])\n",
    "\n",
    "causal_diagram = \"\".join(nx.generate_gml(G))\n",
    "\n",
    "nx.nx_agraph.view_pygraphviz(G, prog='fdp')  # pygraphvizが必要"
   ]
  },
  {
   "cell_type": "code",
   "execution_count": 115,
   "metadata": {
    "tags": []
   },
   "outputs": [
    {
     "output_type": "stream",
     "name": "stderr",
     "text": "INFO:dowhy.causal_model:Model to find the causal effect of treatment ['treatment'] on outcome ['spend']\n"
    }
   ],
   "source": [
    "model=CausalModel(\n",
    "        data = struct_data,\n",
    "        treatment=\"treatment\",\n",
    "        outcome=\"spend\",\n",
    "        graph=causal_diagram\n",
    "        )"
   ]
  },
  {
   "cell_type": "code",
   "execution_count": 116,
   "metadata": {},
   "outputs": [],
   "source": [
    "model.view_model()"
   ]
  },
  {
   "cell_type": "code",
   "execution_count": 117,
   "metadata": {},
   "outputs": [
    {
     "output_type": "display_data",
     "data": {
      "image/png": "[encoded data removed]",
      "text/plain": "<IPython.core.display.Image object>"
     },
     "metadata": {}
    }
   ],
   "source": [
    "\n",
    "from IPython.display import Image, display\n",
    "display(Image(filename=\"causal_model.png\"))\n"
   ]
  },
  {
   "cell_type": "code",
   "execution_count": 118,
   "metadata": {
    "tags": []
   },
   "outputs": [
    {
     "output_type": "stream",
     "name": "stderr",
     "text": "INFO:dowhy.causal_identifier:Common causes of treatment and outcome:['channel', 'recentry', 'history']\nWARNING:dowhy.causal_identifier:If this is observed data (not from a randomized experiment), there might always be missing confounders. Causal effect cannot be identified perfectly.\nINFO:dowhy.causal_identifier:Instrumental variables for treatment and outcome:[]\nEstimand type: nonparametric-ate\n### Estimand : 1\nEstimand name: backdoor\nEstimand expression:\n     d                                          \n────────────(Expectation(spend|channel,history))\nd[treatment]                                    \nEstimand assumption 1, Unconfoundedness: If U→{treatment} and U→spend then P(spend|treatment,channel,history,U) = P(spend|treatment,channel,history)\n### Estimand : 2\nEstimand name: iv\nNo such variable found!\n\n"
    }
   ],
   "source": [
    "\n",
    "identified_estimand = model.identify_effect()\n",
    "print(identified_estimand)"
   ]
  },
  {
   "cell_type": "code",
   "execution_count": 119,
   "metadata": {
    "tags": []
   },
   "outputs": [
    {
     "output_type": "stream",
     "name": "stderr",
     "text": "INFO:dowhy.causal_estimator:INFO: Using Propensity Score Weighting Estimator\nINFO:dowhy.causal_estimator:b: spend~treatment+channel+history\n*** Causal Estimate ***\n\n## Identified estimand\nEstimand type: nonparametric-ate\n### Estimand : 1\nEstimand name: backdoor\nEstimand expression:\n     d                                          \n────────────(Expectation(spend|channel,history))\nd[treatment]                                    \nEstimand assumption 1, Unconfoundedness: If U→{treatment} and U→spend then P(spend|treatment,channel,history,U) = P(spend|treatment,channel,history)\n### Estimand : 2\nEstimand name: iv\nNo such variable found!\n\n## Realized estimand\nb: spend~treatment+channel+history\nTarget units: ate\n\n## Estimate\nMean value: 0.8234131441089386\n\nCausal Estimate is 0.8234131441089386\n"
    }
   ],
   "source": [
    "\n",
    "causal_estimate = model.estimate_effect(identified_estimand,\n",
    "                                            method_name=\"backdoor.propensity_score_weighting\",\n",
    "                                            target_units = \"ate\",\n",
    "                                            method_params={\"weighting_scheme\":\"ips_weight\"})\n",
    "print(causal_estimate)\n",
    "print(\"Causal Estimate is \" + str(causal_estimate.value))"
   ]
  },
  {
   "cell_type": "code",
   "execution_count": 120,
   "metadata": {
    "tags": []
   },
   "outputs": [
    {
     "output_type": "stream",
     "name": "stderr",
     "text": "INFO:dowhy.causal_estimator:INFO: Using Propensity Score Weighting Estimator\nINFO:dowhy.causal_estimator:b: spend~treatment+channel+history+w_random\nRefute: Add a Random Common Cause\nEstimated effect:0.8234131441089386\nNew effect:0.8235703216755546\n\n"
    }
   ],
   "source": [
    "res_random=model.refute_estimate(identified_estimand, causal_estimate, method_name=\"random_common_cause\")\n",
    "print(res_random)"
   ]
  },
  {
   "cell_type": "code",
   "execution_count": 84,
   "metadata": {
    "tags": []
   },
   "outputs": [
    {
     "output_type": "stream",
     "name": "stderr",
     "text": "INFO:dowhy.causal_estimator:INFO: Using Propensity Score Weighting Estimator\nINFO:dowhy.causal_estimator:b: spend~treatment+channel+history\nRefute: Add an Unobserved Common Cause\nEstimated effect:-0.4343443782373406\nNew effect:-0.4508320862545776\n\n"
    }
   ],
   "source": [
    "res_unobserved=model.refute_estimate(identified_estimand, causal_estimate, method_name=\"add_unobserved_common_cause\",\n",
    "                                     confounders_effect_on_treatment=\"binary_flip\", confounders_effect_on_outcome=\"linear\",\n",
    "                                    effect_strength_on_treatment=0.01, effect_strength_on_outcome=0.02)\n",
    "print(res_unobserved)"
   ]
  },
  {
   "cell_type": "code",
   "execution_count": 85,
   "metadata": {
    "tags": []
   },
   "outputs": [
    {
     "output_type": "stream",
     "name": "stderr",
     "text": "INFO:dowhy.causal_refuters.placebo_treatment_refuter:Refutation over 100 simulated datasets of permute treatment\nINFO:dowhy.causal_estimator:INFO: Using Propensity Score Weighting Estimator\nINFO:dowhy.causal_estimator:b: spend~placebo+channel+history\nINFO:dowhy.causal_estimator:INFO: Using Propensity Score Weighting Estimator\nINFO:dowhy.causal_estimator:b: spend~placebo+channel+history\nINFO:dowhy.causal_estimator:INFO: Using Propensity Score Weighting Estimator\nINFO:dowhy.causal_estimator:b: spend~placebo+channel+history\nINFO:dowhy.causal_estimator:INFO: Using Propensity Score Weighting Estimator\nINFO:dowhy.causal_estimator:b: spend~placebo+channel+history\nINFO:dowhy.causal_estimator:INFO: Using Propensity Score Weighting Estimator\nINFO:dowhy.causal_estimator:b: spend~placebo+channel+history\nINFO:dowhy.causal_estimator:INFO: Using Propensity Score Weighting Estimator\nINFO:dowhy.causal_estimator:b: spend~placebo+channel+history\nINFO:dowhy.causal_estimator:INFO: Using Propensity Score Weighting Estimator\nINFO:dowhy.causal_estimator:b: spend~placebo+channel+history\nINFO:dowhy.causal_estimator:INFO: Using Propensity Score Weighting Estimator\nINFO:dowhy.causal_estimator:b: spend~placebo+channel+history\nINFO:dowhy.causal_estimator:INFO: Using Propensity Score Weighting Estimator\nINFO:dowhy.causal_estimator:b: spend~placebo+channel+history\nINFO:dowhy.causal_estimator:INFO: Using Propensity Score Weighting Estimator\nINFO:dowhy.causal_estimator:b: spend~placebo+channel+history\nINFO:dowhy.causal_estimator:INFO: Using Propensity Score Weighting Estimator\nINFO:dowhy.causal_estimator:b: spend~placebo+channel+history\nINFO:dowhy.causal_estimator:INFO: Using Propensity Score Weighting Estimator\nINFO:dowhy.causal_estimator:b: spend~placebo+channel+history\nINFO:dowhy.causal_estimator:INFO: Using Propensity Score Weighting Estimator\nINFO:dowhy.causal_estimator:b: spend~placebo+channel+history\nINFO:dowhy.causal_estimator:INFO: Using Propensity Score Weighting Estimator\nINFO:dowhy.causal_estimator:b: spend~placebo+channel+history\nINFO:dowhy.causal_estimator:INFO: Using Propensity Score Weighting Estimator\nINFO:dowhy.causal_estimator:b: spend~placebo+channel+history\nINFO:dowhy.causal_estimator:INFO: Using Propensity Score Weighting Estimator\nINFO:dowhy.causal_estimator:b: spend~placebo+channel+history\nINFO:dowhy.causal_estimator:INFO: Using Propensity Score Weighting Estimator\nINFO:dowhy.causal_estimator:b: spend~placebo+channel+history\nINFO:dowhy.causal_estimator:INFO: Using Propensity Score Weighting Estimator\nINFO:dowhy.causal_estimator:b: spend~placebo+channel+history\nINFO:dowhy.causal_estimator:INFO: Using Propensity Score Weighting Estimator\nINFO:dowhy.causal_estimator:b: spend~placebo+channel+history\nINFO:dowhy.causal_estimator:INFO: Using Propensity Score Weighting Estimator\nINFO:dowhy.causal_estimator:b: spend~placebo+channel+history\nINFO:dowhy.causal_estimator:INFO: Using Propensity Score Weighting Estimator\nINFO:dowhy.causal_estimator:b: spend~placebo+channel+history\nINFO:dowhy.causal_estimator:INFO: Using Propensity Score Weighting Estimator\nINFO:dowhy.causal_estimator:b: spend~placebo+channel+history\nINFO:dowhy.causal_estimator:INFO: Using Propensity Score Weighting Estimator\nINFO:dowhy.causal_estimator:b: spend~placebo+channel+history\nINFO:dowhy.causal_estimator:INFO: Using Propensity Score Weighting Estimator\nINFO:dowhy.causal_estimator:b: spend~placebo+channel+history\nINFO:dowhy.causal_estimator:INFO: Using Propensity Score Weighting Estimator\nINFO:dowhy.causal_estimator:b: spend~placebo+channel+history\nINFO:dowhy.causal_estimator:INFO: Using Propensity Score Weighting Estimator\nINFO:dowhy.causal_estimator:b: spend~placebo+channel+history\nINFO:dowhy.causal_estimator:INFO: Using Propensity Score Weighting Estimator\nINFO:dowhy.causal_estimator:b: spend~placebo+channel+history\nINFO:dowhy.causal_estimator:INFO: Using Propensity Score Weighting Estimator\nINFO:dowhy.causal_estimator:b: spend~placebo+channel+history\nINFO:dowhy.causal_estimator:INFO: Using Propensity Score Weighting Estimator\nINFO:dowhy.causal_estimator:b: spend~placebo+channel+history\nINFO:dowhy.causal_estimator:INFO: Using Propensity Score Weighting Estimator\nINFO:dowhy.causal_estimator:b: spend~placebo+channel+history\nINFO:dowhy.causal_estimator:INFO: Using Propensity Score Weighting Estimator\nINFO:dowhy.causal_estimator:b: spend~placebo+channel+history\nINFO:dowhy.causal_estimator:INFO: Using Propensity Score Weighting Estimator\nINFO:dowhy.causal_estimator:b: spend~placebo+channel+history\nINFO:dowhy.causal_estimator:INFO: Using Propensity Score Weighting Estimator\nINFO:dowhy.causal_estimator:b: spend~placebo+channel+history\nINFO:dowhy.causal_estimator:INFO: Using Propensity Score Weighting Estimator\nINFO:dowhy.causal_estimator:b: spend~placebo+channel+history\nINFO:dowhy.causal_estimator:INFO: Using Propensity Score Weighting Estimator\nINFO:dowhy.causal_estimator:b: spend~placebo+channel+history\nINFO:dowhy.causal_estimator:INFO: Using Propensity Score Weighting Estimator\nINFO:dowhy.causal_estimator:b: spend~placebo+channel+history\nINFO:dowhy.causal_estimator:INFO: Using Propensity Score Weighting Estimator\nINFO:dowhy.causal_estimator:b: spend~placebo+channel+history\nINFO:dowhy.causal_estimator:INFO: Using Propensity Score Weighting Estimator\nINFO:dowhy.causal_estimator:b: spend~placebo+channel+history\nINFO:dowhy.causal_estimator:INFO: Using Propensity Score Weighting Estimator\nINFO:dowhy.causal_estimator:b: spend~placebo+channel+history\nINFO:dowhy.causal_estimator:INFO: Using Propensity Score Weighting Estimator\nINFO:dowhy.causal_estimator:b: spend~placebo+channel+history\nINFO:dowhy.causal_estimator:INFO: Using Propensity Score Weighting Estimator\nINFO:dowhy.causal_estimator:b: spend~placebo+channel+history\nINFO:dowhy.causal_estimator:INFO: Using Propensity Score Weighting Estimator\nINFO:dowhy.causal_estimator:b: spend~placebo+channel+history\nINFO:dowhy.causal_estimator:INFO: Using Propensity Score Weighting Estimator\nINFO:dowhy.causal_estimator:b: spend~placebo+channel+history\nINFO:dowhy.causal_estimator:INFO: Using Propensity Score Weighting Estimator\nINFO:dowhy.causal_estimator:b: spend~placebo+channel+history\nINFO:dowhy.causal_estimator:INFO: Using Propensity Score Weighting Estimator\nINFO:dowhy.causal_estimator:b: spend~placebo+channel+history\nINFO:dowhy.causal_estimator:INFO: Using Propensity Score Weighting Estimator\nINFO:dowhy.causal_estimator:b: spend~placebo+channel+history\nINFO:dowhy.causal_estimator:INFO: Using Propensity Score Weighting Estimator\nINFO:dowhy.causal_estimator:b: spend~placebo+channel+history\nINFO:dowhy.causal_estimator:INFO: Using Propensity Score Weighting Estimator\nINFO:dowhy.causal_estimator:b: spend~placebo+channel+history\nINFO:dowhy.causal_estimator:INFO: Using Propensity Score Weighting Estimator\nINFO:dowhy.causal_estimator:b: spend~placebo+channel+history\nINFO:dowhy.causal_estimator:INFO: Using Propensity Score Weighting Estimator\nINFO:dowhy.causal_estimator:b: spend~placebo+channel+history\nINFO:dowhy.causal_estimator:INFO: Using Propensity Score Weighting Estimator\nINFO:dowhy.causal_estimator:b: spend~placebo+channel+history\nINFO:dowhy.causal_estimator:INFO: Using Propensity Score Weighting Estimator\nINFO:dowhy.causal_estimator:b: spend~placebo+channel+history\nINFO:dowhy.causal_estimator:INFO: Using Propensity Score Weighting Estimator\nINFO:dowhy.causal_estimator:b: spend~placebo+channel+history\nINFO:dowhy.causal_estimator:INFO: Using Propensity Score Weighting Estimator\nINFO:dowhy.causal_estimator:b: spend~placebo+channel+history\nINFO:dowhy.causal_estimator:INFO: Using Propensity Score Weighting Estimator\nINFO:dowhy.causal_estimator:b: spend~placebo+channel+history\nINFO:dowhy.causal_estimator:INFO: Using Propensity Score Weighting Estimator\nINFO:dowhy.causal_estimator:b: spend~placebo+channel+history\nINFO:dowhy.causal_estimator:INFO: Using Propensity Score Weighting Estimator\nINFO:dowhy.causal_estimator:b: spend~placebo+channel+history\nINFO:dowhy.causal_estimator:INFO: Using Propensity Score Weighting Estimator\nINFO:dowhy.causal_estimator:b: spend~placebo+channel+history\nINFO:dowhy.causal_estimator:INFO: Using Propensity Score Weighting Estimator\nINFO:dowhy.causal_estimator:b: spend~placebo+channel+history\nINFO:dowhy.causal_estimator:INFO: Using Propensity Score Weighting Estimator\nINFO:dowhy.causal_estimator:b: spend~placebo+channel+history\nINFO:dowhy.causal_estimator:INFO: Using Propensity Score Weighting Estimator\nINFO:dowhy.causal_estimator:b: spend~placebo+channel+history\nINFO:dowhy.causal_estimator:INFO: Using Propensity Score Weighting Estimator\nINFO:dowhy.causal_estimator:b: spend~placebo+channel+history\nINFO:dowhy.causal_estimator:INFO: Using Propensity Score Weighting Estimator\nINFO:dowhy.causal_estimator:b: spend~placebo+channel+history\nINFO:dowhy.causal_estimator:INFO: Using Propensity Score Weighting Estimator\nINFO:dowhy.causal_estimator:b: spend~placebo+channel+history\nINFO:dowhy.causal_estimator:INFO: Using Propensity Score Weighting Estimator\nINFO:dowhy.causal_estimator:b: spend~placebo+channel+history\nINFO:dowhy.causal_estimator:INFO: Using Propensity Score Weighting Estimator\nINFO:dowhy.causal_estimator:b: spend~placebo+channel+history\nINFO:dowhy.causal_estimator:INFO: Using Propensity Score Weighting Estimator\nINFO:dowhy.causal_estimator:b: spend~placebo+channel+history\nINFO:dowhy.causal_estimator:INFO: Using Propensity Score Weighting Estimator\nINFO:dowhy.causal_estimator:b: spend~placebo+channel+history\nINFO:dowhy.causal_estimator:INFO: Using Propensity Score Weighting Estimator\nINFO:dowhy.causal_estimator:b: spend~placebo+channel+history\nINFO:dowhy.causal_estimator:INFO: Using Propensity Score Weighting Estimator\nINFO:dowhy.causal_estimator:b: spend~placebo+channel+history\nINFO:dowhy.causal_estimator:INFO: Using Propensity Score Weighting Estimator\nINFO:dowhy.causal_estimator:b: spend~placebo+channel+history\nINFO:dowhy.causal_estimator:INFO: Using Propensity Score Weighting Estimator\nINFO:dowhy.causal_estimator:b: spend~placebo+channel+history\nINFO:dowhy.causal_estimator:INFO: Using Propensity Score Weighting Estimator\nINFO:dowhy.causal_estimator:b: spend~placebo+channel+history\nINFO:dowhy.causal_estimator:INFO: Using Propensity Score Weighting Estimator\nINFO:dowhy.causal_estimator:b: spend~placebo+channel+history\nINFO:dowhy.causal_estimator:INFO: Using Propensity Score Weighting Estimator\nINFO:dowhy.causal_estimator:b: spend~placebo+channel+history\nINFO:dowhy.causal_estimator:INFO: Using Propensity Score Weighting Estimator\nINFO:dowhy.causal_estimator:b: spend~placebo+channel+history\nINFO:dowhy.causal_estimator:INFO: Using Propensity Score Weighting Estimator\nINFO:dowhy.causal_estimator:b: spend~placebo+channel+history\nINFO:dowhy.causal_estimator:INFO: Using Propensity Score Weighting Estimator\nINFO:dowhy.causal_estimator:b: spend~placebo+channel+history\nINFO:dowhy.causal_estimator:INFO: Using Propensity Score Weighting Estimator\nINFO:dowhy.causal_estimator:b: spend~placebo+channel+history\nINFO:dowhy.causal_estimator:INFO: Using Propensity Score Weighting Estimator\nINFO:dowhy.causal_estimator:b: spend~placebo+channel+history\nINFO:dowhy.causal_estimator:INFO: Using Propensity Score Weighting Estimator\nINFO:dowhy.causal_estimator:b: spend~placebo+channel+history\nINFO:dowhy.causal_estimator:INFO: Using Propensity Score Weighting Estimator\nINFO:dowhy.causal_estimator:b: spend~placebo+channel+history\nINFO:dowhy.causal_estimator:INFO: Using Propensity Score Weighting Estimator\nINFO:dowhy.causal_estimator:b: spend~placebo+channel+history\nINFO:dowhy.causal_estimator:INFO: Using Propensity Score Weighting Estimator\nINFO:dowhy.causal_estimator:b: spend~placebo+channel+history\nINFO:dowhy.causal_estimator:INFO: Using Propensity Score Weighting Estimator\nINFO:dowhy.causal_estimator:b: spend~placebo+channel+history\nINFO:dowhy.causal_estimator:INFO: Using Propensity Score Weighting Estimator\nINFO:dowhy.causal_estimator:b: spend~placebo+channel+history\nINFO:dowhy.causal_estimator:INFO: Using Propensity Score Weighting Estimator\nINFO:dowhy.causal_estimator:b: spend~placebo+channel+history\nINFO:dowhy.causal_estimator:INFO: Using Propensity Score Weighting Estimator\nINFO:dowhy.causal_estimator:b: spend~placebo+channel+history\nINFO:dowhy.causal_estimator:INFO: Using Propensity Score Weighting Estimator\nINFO:dowhy.causal_estimator:b: spend~placebo+channel+history\nINFO:dowhy.causal_estimator:INFO: Using Propensity Score Weighting Estimator\nINFO:dowhy.causal_estimator:b: spend~placebo+channel+history\nINFO:dowhy.causal_estimator:INFO: Using Propensity Score Weighting Estimator\nINFO:dowhy.causal_estimator:b: spend~placebo+channel+history\nINFO:dowhy.causal_estimator:INFO: Using Propensity Score Weighting Estimator\nINFO:dowhy.causal_estimator:b: spend~placebo+channel+history\nINFO:dowhy.causal_estimator:INFO: Using Propensity Score Weighting Estimator\nINFO:dowhy.causal_estimator:b: spend~placebo+channel+history\nINFO:dowhy.causal_estimator:INFO: Using Propensity Score Weighting Estimator\nINFO:dowhy.causal_estimator:b: spend~placebo+channel+history\nINFO:dowhy.causal_estimator:INFO: Using Propensity Score Weighting Estimator\nINFO:dowhy.causal_estimator:b: spend~placebo+channel+history\nINFO:dowhy.causal_estimator:INFO: Using Propensity Score Weighting Estimator\nINFO:dowhy.causal_estimator:b: spend~placebo+channel+history\nINFO:dowhy.causal_estimator:INFO: Using Propensity Score Weighting Estimator\nINFO:dowhy.causal_estimator:b: spend~placebo+channel+history\nINFO:dowhy.causal_estimator:INFO: Using Propensity Score Weighting Estimator\nINFO:dowhy.causal_estimator:b: spend~placebo+channel+history\nINFO:dowhy.causal_estimator:INFO: Using Propensity Score Weighting Estimator\nINFO:dowhy.causal_estimator:b: spend~placebo+channel+history\nINFO:dowhy.causal_estimator:INFO: Using Propensity Score Weighting Estimator\nINFO:dowhy.causal_estimator:b: spend~placebo+channel+history\nINFO:dowhy.causal_refuters.placebo_treatment_refuter:Making use of Bootstrap as we have more than 100 examples.\n                 Note: The greater the number of examples, the more accurate are the confidence estimates\nRefute: Use a Placebo Treatment\nEstimated effect:-0.4343443782373406\nNew effect:-0.01595802757224094\np value:0.44999999999999996\n\n"
    }
   ],
   "source": [
    "\n",
    "res_placebo=model.refute_estimate(identified_estimand, causal_estimate,\n",
    "        method_name=\"placebo_treatment_refuter\", placebo_type=\"permute\")\n",
    "print(res_placebo)"
   ]
  },
  {
   "cell_type": "code",
   "execution_count": null,
   "metadata": {},
   "outputs": [],
   "source": []
  }
 ]
}